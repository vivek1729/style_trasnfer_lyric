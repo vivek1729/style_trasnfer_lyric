{
 "cells": [
  {
   "cell_type": "code",
   "execution_count": 290,
   "metadata": {
    "scrolled": true
   },
   "outputs": [],
   "source": [
    "import pandas as pd\n",
    "import numpy as np\n",
    "import pickle as cpickle\n",
    "import os.path\n",
    "import tensorflow as tf\n",
    "import keras.utils\n",
    "from keras.callbacks import ModelCheckpoint\n",
    "import re\n",
    "from tensorflow.contrib import learn\n",
    "from collections import OrderedDict\n",
    "from collections import Counter\n",
    "import h5py\n",
    "from keras.models import load_model\n",
    "from matplotlib import pyplot\n",
    "\n",
    "#lyrics_file = \"lyrics.txt\"\n",
    "lyrics_file = \"lyric_qaurtaa\"\n",
    "#lyrics_file = \"lyricaa\"\n",
    "#word_vectors_file = \"word_vectors_5000.p\"\n",
    "embed_file = \"glove.6B.50d.txt\"\n",
    "MAX_SENTENCE_LENGTH = 12\n"
   ]
  },
  {
   "cell_type": "code",
   "execution_count": 291,
   "metadata": {},
   "outputs": [],
   "source": [
    "def clean_str( string, lower=True ):\n",
    "    \"\"\"\n",
    "    Tokenization/string cleaning for the datasets.\n",
    "    Taken from https://github.com/yoonkim/CNN_sentence/blob/master/process_data.py\n",
    "    \"\"\"\n",
    "    #Remove anything that is not a character, a digit, a bracket etc. from the string\n",
    "    string = re.sub( r\"[^A-Za-z0-9(),!?\\'\\`]\",\" \", string )\n",
    "    #Add a space between the apostrophes so that they are not counted as a single word\n",
    "    string = re.sub( r\"\\'s\",\" 's\", string )\n",
    "    string = re.sub( r\"\\'ve\", \" 've\", string )\n",
    "    string = re.sub( r\"\\'re\", \" 're\", string )\n",
    "    string = re.sub( r\"\\'d\", \" 'd\", string )\n",
    "    string = re.sub( r\"\\'ll\", \" 'll\", string )\n",
    "    string = re.sub( r\"n\\'t\", \" n't\", string )\n",
    "    string = re.sub( r\",\", \" , \", string )\n",
    "    string = re.sub( r\"!\", \" ! \", string )\n",
    "    string = re.sub( r\"\\(\", \" ( \", string )\n",
    "    string = re.sub( r\"\\)\", \" ) \", string )\n",
    "    string = re.sub( r\"\\?\", \" ? \", string )\n",
    "    string = re.sub( r\"\\s{2,}\",\" \", string )\n",
    "\n",
    "    result = string.strip()\n",
    "    if lower:\n",
    "        result = result.lower()\n",
    "\n",
    "    return result"
   ]
  },
  {
   "cell_type": "code",
   "execution_count": 292,
   "metadata": {},
   "outputs": [],
   "source": [
    "def loadLyrics( lyrics_file ):\n",
    "    vocab_dict = {}\n",
    "    lyrics_data = []\n",
    "    embed_dict = load_embed_to_dict( embed_file )\n",
    "    with open( lyrics_file ) as fp:\n",
    "        for line in fp:\n",
    "            words = line.split()\n",
    "            filtered_arr = []\n",
    "            for word in words:\n",
    "                ts = clean_str( word )\n",
    "                if ts != '':\n",
    "                    ts = ts.split(' ')\n",
    "                    for t in ts:\n",
    "                        t = str(t)\n",
    "                        if t not in embed_dict:\n",
    "                            continue\n",
    "                        vocab_dict[t] = vocab_dict.get(t,0) + 1\n",
    "                        filtered_arr.append(t)\n",
    "            lyrics_data.append(filtered_arr)\n",
    "    return lyrics_data, vocab_dict\n"
   ]
  },
  {
   "cell_type": "code",
   "execution_count": 293,
   "metadata": {},
   "outputs": [],
   "source": [
    "lyricsData, vocab_dict = loadLyrics( lyrics_file )"
   ]
  },
  {
   "cell_type": "code",
   "execution_count": 294,
   "metadata": {},
   "outputs": [
    {
     "name": "stdout",
     "output_type": "stream",
     "text": [
      "[['(', 'jay', 'z', ')'], ['motherfuckers'], ['say', 'that', 'foolish', 'i', 'only', 'talk', 'about', 'jewels', '(', 'bling', 'bling', ')'], ['do', 'you', 'fools', 'listen', 'to', 'music', 'or', 'do', 'you', 'just', 'skim', 'through', 'it', '?'], ['see', 'influenced', 'by', 'the', 'ghetto', 'you', 'ruined'], ['that', 'same', 'dude', 'you', 'gave', ',', 'i', 'made', \"somethin'\"], ['what', 'i', 'do', 'through', 'and', 'through', 'and'], ['i', 'give', 'you', 'the', 'news', 'with', 'a', 'twist', 'it', \"'s\", 'just', 'his', 'ghetto', 'point', 'of', 'view'], ['the', 'renegade', 'you', 'been', 'afraid'], ['i', 'penetrate', 'pop', 'culture', ',', 'bring', \"'em\", 'a', 'lot', 'closer', 'to', 'the', 'block', 'where', 'they']] 1035\n"
     ]
    }
   ],
   "source": [
    "print(lyricsData[0:10], vocab_dict['jay'])"
   ]
  },
  {
   "cell_type": "code",
   "execution_count": 295,
   "metadata": {},
   "outputs": [],
   "source": [
    "def load_embed_to_dict( embed_file ):\n",
    "    \"\"\"\n",
    "    Load the embedding vector for each word onto the ordered dictionary and return\n",
    "    \"\"\"\n",
    "    ret = OrderedDict()\n",
    "    for row in list(open(embed_file,\"r\").readlines()):\n",
    "        fields = row.strip().split()\n",
    "        word = fields[0]\n",
    "        ret[word] = np.array(list(map(float, fields[1:])))\n",
    "\n",
    "    return ret\n"
   ]
  },
  {
   "cell_type": "code",
   "execution_count": 296,
   "metadata": {},
   "outputs": [],
   "source": [
    "def load_embeddings(embed_file, vocab_dict, dim, use_cache=True):\n",
    "    #embeddings_cache_file = embeddings_file + \".cache.npy\"\n",
    "    #if use_cache and os.path.isfile(embeddings_cache_file):\n",
    "    #    embeddings = np.load(embeddings_cache_file)\n",
    "    #    return embeddings\n",
    "\n",
    "    embed = np.array(np.random.randn(len(vocab_dict)+ 1, dim), dtype=np.float32)\n",
    "    embed[0] = 0\n",
    "    for word, vec in load_embed_to_dict(embed_file).items():\n",
    "        #word = normalize(word)\n",
    "        if word in vocab_dict:\n",
    "            embed[vocab_dict[word]] = vec\n",
    "   \n",
    "    #np.save(embeddings_cache_file, embeddings)\n",
    "    #print \"Initialized embeddings\"\n",
    "    #print embeddings\n",
    "    return embed"
   ]
  },
  {
   "cell_type": "code",
   "execution_count": 297,
   "metadata": {},
   "outputs": [],
   "source": [
    "def populate_wv( embed_file, vocab_dict ):\n",
    "    embed_dict = load_embed_to_dict( embed_file )\n",
    "    #Create a filtered vocab with indices\n",
    "    filtered_vocab = {}\n",
    "    word_vectors = {}\n",
    "    count = 0\n",
    "    total_count = len(vocab_dict.keys())\n",
    "    for k in vocab_dict:\n",
    "        if k in embed_dict:\n",
    "            filtered_vocab[k] = count\n",
    "            word_vectors[k] = embed_dict[k]\n",
    "        count += 1\n",
    "    print(count)\n",
    "    return word_vectors, filtered_vocab\n"
   ]
  },
  {
   "cell_type": "code",
   "execution_count": 298,
   "metadata": {},
   "outputs": [
    {
     "name": "stdout",
     "output_type": "stream",
     "text": [
      "24486\n"
     ]
    }
   ],
   "source": [
    "wd_dict, filtered_vocab = populate_wv( embed_file, vocab_dict )"
   ]
  },
  {
   "cell_type": "code",
   "execution_count": 299,
   "metadata": {},
   "outputs": [
    {
     "name": "stdout",
     "output_type": "stream",
     "text": [
      "24486 24486 24486\n"
     ]
    }
   ],
   "source": [
    "print(len(wd_dict), len(filtered_vocab), len(vocab_dict))"
   ]
  },
  {
   "cell_type": "code",
   "execution_count": 300,
   "metadata": {},
   "outputs": [],
   "source": [
    "N = 50\n",
    "wd_dict['<unknown>'] = np.random.uniform(-0.5/N, 0.5/N, (N)).tolist()\n",
    "wd_dict['<start>'] = np.random.uniform(-0.5/N, 0.5/N, (N)).tolist()\n",
    "wd_dict['<stop>'] = np.random.uniform(-0.5/N, 0.5/N, (N)).tolist()\n",
    "wd_dict['<nop>'] = np.random.uniform(-0.5/N, 0.5/N, (N)).tolist()\n",
    "temp = len(filtered_vocab.keys())\n",
    "filtered_vocab['<unknown>']=temp\n",
    "filtered_vocab['<start>']=temp+1\n",
    "filtered_vocab['<stop>']=temp+2\n",
    "filtered_vocab['<nop>']=temp+3"
   ]
  },
  {
   "cell_type": "code",
   "execution_count": 301,
   "metadata": {},
   "outputs": [],
   "source": [
    "num_words = 12 #Since 99 percentile are of this length, we'll clip longer sentences and add no-ops\n",
    "X_embeddings = []\n",
    "filtered_lyric = []\n",
    "for lyric in lyricsData:\n",
    "    if len(lyric) < 3: #Do not include extremely short sentences.\n",
    "        continue\n",
    "    extra = 0\n",
    "    count = 0\n",
    "    arr = []\n",
    "    temp_arr = []#Would store the index of words in filtered lyric\n",
    "    for word in lyric:\n",
    "        if count == 12:\n",
    "            break\n",
    "        if word in wd_dict:\n",
    "            arr.append(wd_dict[word])\n",
    "            temp_arr.append(filtered_vocab[word])\n",
    "            count += 1\n",
    "    if count < 12:\n",
    "        extra = 12 - count\n",
    "    #Append extra nops\n",
    "    for n in range(extra):\n",
    "        arr.append(wd_dict['<nop>'])\n",
    "        temp_arr.append(filtered_vocab['<nop>'])\n",
    "    #decoder_embeddings.append([wd_dict['<nop>']]+arr[:11]) #Shift by one time step and add nop at beginning\n",
    "    X_embeddings.append(arr)\n",
    "    filtered_lyric.append(temp_arr)\n"
   ]
  },
  {
   "cell_type": "code",
   "execution_count": 302,
   "metadata": {},
   "outputs": [
    {
     "name": "stdout",
     "output_type": "stream",
     "text": [
      "Dimensions of encoder embeddings 144154 x 12 x 50\n"
     ]
    }
   ],
   "source": [
    "print(\"Dimensions of encoder embeddings \"+str(len(X_embeddings))+' x '+str(len(X_embeddings[0]))+' x '+str(len(X_embeddings[0][0])))\n"
   ]
  },
  {
   "cell_type": "code",
   "execution_count": 303,
   "metadata": {},
   "outputs": [
    {
     "name": "stdout",
     "output_type": "stream",
     "text": [
      "144154\n",
      "144154\n"
     ]
    }
   ],
   "source": [
    "print(len(X_embeddings))\n",
    "print(len(filtered_lyric))\n"
   ]
  },
  {
   "cell_type": "code",
   "execution_count": 304,
   "metadata": {},
   "outputs": [],
   "source": [
    "latent_dim = 50\n",
    "num_words = 12\n",
    "vocab_size = len(filtered_vocab.keys())\n",
    "batch_size = 20\n"
   ]
  },
  {
   "cell_type": "code",
   "execution_count": 305,
   "metadata": {},
   "outputs": [
    {
     "name": "stdout",
     "output_type": "stream",
     "text": [
      "24490\n"
     ]
    }
   ],
   "source": [
    "print (vocab_size)"
   ]
  },
  {
   "cell_type": "code",
   "execution_count": 306,
   "metadata": {},
   "outputs": [],
   "source": [
    "#Create a genertor class to output labels in specific batch size for training and validation\n",
    "class BatchGenerator(object):\n",
    "    def __init__(self, data, batch_size, dim_x, dim_y, vocabulary):\n",
    "        self.data = data\n",
    "        self.batch_size = batch_size\n",
    "        self.vocabulary = vocabulary\n",
    "        self.dim_x = dim_x\n",
    "        self.dim_y = dim_y\n",
    "        self.current_idx = 0\n",
    "\n",
    "    def generate(self):\n",
    "        while True:\n",
    "            #imax = int(len(self.data)/self.batch_size)\n",
    "            x_encoder = np.empty((self.batch_size, self.dim_x, self.dim_y))\n",
    "            x_decoder = np.empty((self.batch_size, self.dim_x, self.dim_y))\n",
    "            y = np.empty((self.batch_size, self.dim_x, self.vocabulary))\n",
    "            for i in range(self.batch_size):\n",
    "                if self.current_idx + self.batch_size >= len(self.data):\n",
    "                    # reset the index back to the start of the data set\n",
    "                    self.current_idx = 0\n",
    "                arr = self.data[self.current_idx]\n",
    "                x_encoder[i, :, :] = np.array(arr, dtype=np.float32)\n",
    "                #Shift by one step to form the decoder input\n",
    "                x_temp = [wd_dict['<nop>']]+arr[:11]\n",
    "                x_decoder[i, :, :] = np.array(x_temp, dtype=np.float32)\n",
    "                temp_y = filtered_lyric[self.current_idx]\n",
    "                # convert all of temp_y into a one hot representation\n",
    "                #temp_y = map(lambda x: keras.utils.to_categorical(x,num_classes=self.vocabulary),temp_y)\n",
    "                y[i,:,:] = [keras.utils.to_categorical(y_item,num_classes=self.vocabulary) for y_item in temp_y]\n",
    "                self.current_idx += 1\n",
    "            yield [x_encoder, x_decoder] , y\n"
   ]
  },
  {
   "cell_type": "code",
   "execution_count": 307,
   "metadata": {},
   "outputs": [
    {
     "name": "stdout",
     "output_type": "stream",
     "text": [
      "100907 21623\n"
     ]
    }
   ],
   "source": [
    "split_idx = int(0.7*len(X_embeddings))\n",
    "size_train = split_idx\n",
    "size_valid = (len(X_embeddings) - split_idx)//2\n",
    "print(size_train, size_valid)\n",
    "train_data_generator = BatchGenerator(X_embeddings[:split_idx], batch_size, num_words, latent_dim, vocab_size)\n",
    "valid_data_generator = BatchGenerator(X_embeddings[split_idx:split_idx+size_valid], batch_size, num_words, latent_dim, vocab_size)\n",
    "test_data_generator = BatchGenerator(X_embeddings[split_idx+size_valid:], batch_size, num_words, latent_dim, vocab_size)\n"
   ]
  },
  {
   "cell_type": "code",
   "execution_count": 308,
   "metadata": {},
   "outputs": [
    {
     "name": "stdout",
     "output_type": "stream",
     "text": [
      "100907 21623\n"
     ]
    }
   ],
   "source": [
    "print(split_idx, size_valid)"
   ]
  },
  {
   "cell_type": "code",
   "execution_count": 309,
   "metadata": {},
   "outputs": [],
   "source": [
    "from keras.layers import Lambda\n",
    "from keras.models import Model\n",
    "from keras.layers import Input, LSTM, Dense\n",
    "import keras.backend as K"
   ]
  },
  {
   "cell_type": "code",
   "execution_count": 310,
   "metadata": {},
   "outputs": [],
   "source": [
    "def content_pre_score(y_true, y_pred):\n",
    "    inp  = model.layers[0].input\n",
    "    op = model.layers[4].input\n",
    "    \n",
    "    min_inp = K.cast( K.argmin( inp, 1), dtype='float32')\n",
    "    max_inp = K.cast( K.argmax ( inp, 1), dtype='float32')\n",
    "    mean_inp = K.mean( inp, 1 )\n",
    "    \n",
    "    min_op = K.cast( K.argmin( op, 1), dtype='float32')\n",
    "    max_op = K.cast( K.argmax ( op, 1), dtype='float32')\n",
    "    mean_op = K.mean( op, 1 )\n",
    "    print (min_inp, min_op)\n",
    "    \n",
    "    inp_sent_embed = K.concatenate( [ min_inp, K.round(mean_inp), max_inp], axis=1 )\n",
    "    op_sent_embed = K.concatenate([ min_op, K.round(mean_op), max_op ], axis=1 )\n",
    "    \n",
    "    print (inp_sent_embed, op_sent_embed)\n",
    "    \n",
    "    score = K.dot( K.transpose(inp_sent_embed) , op_sent_embed )\n",
    "    #print ( score_num )\n",
    "    \n",
    "    \n",
    "    return score"
   ]
  },
  {
   "cell_type": "code",
   "execution_count": 311,
   "metadata": {},
   "outputs": [
    {
     "name": "stdout",
     "output_type": "stream",
     "text": [
      "(?, 12, 50)\n",
      "(?, 50)\n"
     ]
    }
   ],
   "source": [
    "encoder_inputs = Input(shape=(num_words,latent_dim))\n",
    "print(encoder_inputs.shape)\n",
    "encoder = LSTM(latent_dim, return_state=True)\n",
    "\n",
    "encoder_outputs, state_h, state_c = encoder(encoder_inputs)\n",
    "print(encoder_outputs.shape)\n",
    "# We discard `encoder_outputs` and only keep the states.\n",
    "encoder_states = [state_h, state_c]\n",
    "\n",
    "# Set up the decoder, using `encoder_states` as initial state.\n",
    "decoder_inputs = Input(shape=(num_words,latent_dim))\n",
    "# We set up our decoder to return full output sequences,\n",
    "# and to return internal states as well. We don't use the \n",
    "# return states in the training model, but we will use them in inference.\n",
    "decoder_lstm = LSTM(latent_dim, return_sequences=True, return_state=True)\n",
    "decoder_outputs, _, _ = decoder_lstm(decoder_inputs,\n",
    "                                     initial_state=encoder_states)\n",
    "decoder_dense = Dense(vocab_size, activation='softmax')\n",
    "decoder_outputs = decoder_dense(decoder_outputs)\n",
    "# Define the model that will turn\n",
    "# `encoder_input_data` & `decoder_input_data` into `decoder_target_data`\n",
    "model = Model([encoder_inputs, decoder_inputs], decoder_outputs)\n",
    "\n",
    "#Checkpoint, save model after training is complete\n",
    "checkpointer = keras.callbacks.ModelCheckpoint(filepath='model-{epoch:02d}.hdf5', verbose=1)"
   ]
  },
  {
   "cell_type": "code",
   "execution_count": 312,
   "metadata": {},
   "outputs": [],
   "source": [
    "class LossHistory(keras.callbacks.Callback):\n",
    "    def on_train_begin(self, logs={}):\n",
    "        self.losses = []\n",
    "        self.cps = []\n",
    "        self.acc = []\n",
    "\n",
    "    def on_batch_end(self, batch, logs={}):\n",
    "        self.losses.append(logs.get('loss'))\n",
    "        self.cps.append(logs.get('content_pre_score'))\n",
    "        self.acc.append(logs.get('acc'))"
   ]
  },
  {
   "cell_type": "code",
   "execution_count": 313,
   "metadata": {},
   "outputs": [
    {
     "name": "stdout",
     "output_type": "stream",
     "text": [
      "Tensor(\"metrics_35/content_pre_score/Cast:0\", shape=(?, 50), dtype=float32) Tensor(\"metrics_35/content_pre_score/Cast_2:0\", shape=(?, 50), dtype=float32)\n",
      "Tensor(\"metrics_35/content_pre_score/concat:0\", shape=(?, 150), dtype=float32) Tensor(\"metrics_35/content_pre_score/concat_1:0\", shape=(?, 150), dtype=float32)\n",
      "__________________________________________________________________________________________________\n",
      "Layer (type)                    Output Shape         Param #     Connected to                     \n",
      "==================================================================================================\n",
      "input_55 (InputLayer)           (None, 12, 50)       0                                            \n",
      "__________________________________________________________________________________________________\n",
      "input_56 (InputLayer)           (None, 12, 50)       0                                            \n",
      "__________________________________________________________________________________________________\n",
      "lstm_55 (LSTM)                  [(None, 50), (None,  20200       input_55[0][0]                   \n",
      "__________________________________________________________________________________________________\n",
      "lstm_56 (LSTM)                  [(None, 12, 50), (No 20200       input_56[0][0]                   \n",
      "                                                                 lstm_55[0][1]                    \n",
      "                                                                 lstm_55[0][2]                    \n",
      "__________________________________________________________________________________________________\n",
      "dense_28 (Dense)                (None, 12, 24490)    1248990     lstm_56[0][0]                    \n",
      "==================================================================================================\n",
      "Total params: 1,289,390\n",
      "Trainable params: 1,289,390\n",
      "Non-trainable params: 0\n",
      "__________________________________________________________________________________________________\n",
      "None\n",
      "Epoch 1/1\n",
      "5045/5045 [==============================] - 9910s 2s/step - loss: 4.0889 - acc: 0.4042 - content_pre_score: 187.8979 - val_loss: 7.4523 - val_acc: 0.1831 - val_content_pre_score: 175.2186\n",
      "\n",
      "Epoch 00001: saving model to model-01.hdf5\n"
     ]
    },
    {
     "name": "stderr",
     "output_type": "stream",
     "text": [
      "/home/abhay/UCSB_ACADEMIC/CS291A/Project/cs291/lib/python3.4/site-packages/keras/engine/topology.py:2364: UserWarning: Layer lstm_56 was passed non-serializable keyword arguments: {'initial_state': [<tf.Tensor 'lstm_55/while/Exit_2:0' shape=(?, 50) dtype=float32>, <tf.Tensor 'lstm_55/while/Exit_3:0' shape=(?, 50) dtype=float32>]}. They will not be included in the serialized model (and thus will be missing at deserialization time).\n",
      "  str(node.arguments) + '. They will not be included '\n"
     ]
    }
   ],
   "source": [
    "model.compile(optimizer='rmsprop', loss='categorical_crossentropy', metrics=['accuracy', content_pre_score])\n",
    "print(model.summary())\n",
    "validation_steps = size_valid//batch_size\n",
    "lh = LossHistory()\n",
    "history = model.fit_generator(train_data_generator.generate(),size_train//batch_size,\n",
    "                   validation_data=valid_data_generator.generate(), validation_steps=size_valid//batch_size,\n",
    "                    verbose=1,callbacks=[checkpointer, lh])"
   ]
  },
  {
   "cell_type": "code",
   "execution_count": 288,
   "metadata": {},
   "outputs": [
    {
     "name": "stdout",
     "output_type": "stream",
     "text": [
      "[0.0, 0.029166667, 0.020833334, 0.15833333, 0.108333334, 0.225, 0.083333336, 0.1, 0.0125, 0.27916667, 0.20833333, 0.15833333, 0.22916667, 0.17083333, 0.2, 0.27916667, 0.27083334, 0.1875, 0.2125, 0.33333334, 0.15, 0.1125, 0.15833333, 0.15416667, 0.125, 0.0125, 0.20833333, 0.25833333, 0.27916667, 0.20833333, 0.22083333, 0.23333333, 0.23333333, 0.40416667, 0.28333333, 0.30833334, 0.37916666, 0.34583333, 0.3125, 0.28333333, 0.38333333, 0.3, 0.37083334, 0.37916666, 0.375, 0.24583334, 0.18333334, 0.1375, 0.18333334, 0.47083333, 0.5541667, 0.5, 0.53333336, 0.55, 0.49583334, 0.44583333, 0.22916667, 0.19583334, 0.2, 0.27083334, 0.525, 0.43333334, 0.1375, 0.108333334, 0.20833333, 0.325, 0.37916666, 0.34166667, 0.21666667, 0.18333334, 0.25833333, 0.37083334, 0.1875, 0.3875, 0.4, 0.24166666, 0.275, 0.33333334, 0.3375, 0.15416667, 0.21666667, 0.2, 0.275, 0.17916666, 0.225, 0.17083333, 0.33333334, 0.20833333, 0.175, 0.22083333, 0.30833334, 0.25, 0.27916667, 0.20416667, 0.29166666, 0.2, 0.25833333, 0.25833333, 0.2375, 0.175, 0.14583333, 0.225, 0.13333334, 0.20833333, 0.35833332, 0.375, 0.2625, 0.35833332, 0.33333334, 0.375, 0.27916667, 0.34166667, 0.325, 0.34166667, 0.35, 0.33333334, 0.35833332, 0.23333333, 0.30833334, 0.37916666, 0.275, 0.24583334, 0.2875, 0.20416667, 0.40833333, 0.30833334, 0.39166668, 0.43333334, 0.30833334, 0.425, 0.39583334, 0.4, 0.36666667, 0.21666667, 0.3, 0.4125, 0.3125, 0.46666667, 0.5708333, 0.45833334, 0.29583332, 0.2875, 0.27083334, 0.14583333, 0.25, 0.2375, 0.175, 0.19583334, 0.24583334, 0.225, 0.2, 0.2, 0.3, 0.22916667, 0.26666668, 0.32916668, 0.25833333, 0.45, 0.2, 0.1875, 0.20416667, 0.21666667, 0.13333334, 0.24583334, 0.3125, 0.19166666, 0.2375, 0.15416667, 0.175, 0.2125]\n"
     ]
    }
   ],
   "source": []
  },
  {
   "cell_type": "code",
   "execution_count": 314,
   "metadata": {},
   "outputs": [],
   "source": [
    "scores = model.evaluate_generator( test_data_generator.generate(), size_valid//batch_size )\n",
    "\n"
   ]
  },
  {
   "cell_type": "code",
   "execution_count": 241,
   "metadata": {},
   "outputs": [
    {
     "name": "stdout",
     "output_type": "stream",
     "text": [
      "{'val_acc': [0.18308664802685862], 'acc': [0.40324413581659907], 'val_loss': [7.373882308698826], 'loss': [4.096778897062402], 'val_content_pre_score': [178.8960382424495], 'content_pre_score': [184.44180255281205]}\n"
     ]
    }
   ],
   "source": [
    "print (history.history)"
   ]
  },
  {
   "cell_type": "code",
   "execution_count": 331,
   "metadata": {},
   "outputs": [
    {
     "data": {
      "image/png": "[encoded data removed]",
      "text/plain": [
       "<matplotlib.figure.Figure at 0x7f0ed398de10>"
      ]
     },
     "metadata": {},
     "output_type": "display_data"
    }
   ],
   "source": [
    "loss_image = \"loss_img1\"\n",
    "cps_image = \"cps_img1\"\n",
    "pyplot.plot(lh.cps[::50])\n",
    "pyplot.savefig(cps_image, dpi=None, facecolor='w', edgecolor='w',\n",
    "        orientation='portrait', papertype=None, format=None,\n",
    "        transparent=False, bbox_inches=None, pad_inches=0.1,\n",
    "        frameon=None)\n",
    "pyplot.show()"
   ]
  },
  {
   "cell_type": "code",
   "execution_count": 332,
   "metadata": {},
   "outputs": [
    {
     "name": "stdout",
     "output_type": "stream",
     "text": [
      "[7.454504287871467, 0.1808472091175278, 175.7566480468976]\n"
     ]
    }
   ],
   "source": [
    "print(scores)"
   ]
  },
  {
   "cell_type": "code",
   "execution_count": 173,
   "metadata": {},
   "outputs": [
    {
     "name": "stdout",
     "output_type": "stream",
     "text": [
      "['loss', 'acc', 'content_pre_score']\n"
     ]
    }
   ],
   "source": [
    "print (model.metrics_names)"
   ]
  },
  {
   "cell_type": "code",
   "execution_count": null,
   "metadata": {},
   "outputs": [],
   "source": []
  }
 ],
 "metadata": {
  "kernelspec": {
   "display_name": "Python 3",
   "language": "python",
   "name": "python3"
  },
  "language_info": {
   "codemirror_mode": {
    "name": "ipython",
    "version": 3
   },
   "file_extension": ".py",
   "mimetype": "text/x-python",
   "name": "python",
   "nbconvert_exporter": "python",
   "pygments_lexer": "ipython3",
   "version": "3.4.3"
  }
 },
 "nbformat": 4,
 "nbformat_minor": 2
}
